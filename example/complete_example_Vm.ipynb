{
 "cells": [
  {
   "cell_type": "markdown",
   "metadata": {},
   "source": [
    "This example is the same as before, but using the $V_{m}$ as the state variable (to avoid the time it takes to filter the spikes). Additionally, we use scikit-learn to compute the capacity.. I also reduced the size of the main network to reduce the memory load.."
   ]
  },
  {
   "cell_type": "code",
   "execution_count": 1,
   "metadata": {},
   "outputs": [],
   "source": [
    "import nest\n",
    "import numpy as np\n",
    "import pylab as pl\n",
    "from sklearn.linear_model import LinearRegression\n",
    "from functions import *\n",
    "\n",
    "# Global parameters\n",
    "T = 1000  # total number of time steps\n",
    "dt = 0.1  # simulation resolution\n",
    "\n",
    "# Initialize NEST\n",
    "nest.ResetKernel()\n",
    "nest.SetKernelStatus({\n",
    "    'resolution': dt,\n",
    "    'print_time': True,\n",
    "    'local_num_threads': 8})\n",
    "\n",
    "###\n",
    "# Input parameters\n",
    "u_range = [0., 1.]\n",
    "duration = 10. # [ms]\n",
    "\n",
    "u = np.random.uniform(low=u_range[0], high=u_range[1], size=T)\n",
    "input_times = np.arange(dt, T*duration, duration)\n",
    "\n",
    "###\n",
    "# Parameters\n",
    "nEnc = 100\n",
    "J_bias = 200. # [pA] \n",
    "tuning = 250. * np.random.randn(nEnc) + 1000.\n",
    "\n",
    "# randomize thresholds and initial states\n",
    "thresholds = 5 * np.random.randn(nEnc) - 50.\n",
    "Vm0 = np.array(np.random.uniform(low=-70., high=-50., size=int(nEnc)))\n",
    "\n",
    "enc_layer = nest.Create('iaf_neuron', nEnc, {'I_e': J_bias})\n",
    "\n",
    "step_generator = nest.Create('step_current_generator', nEnc)\n",
    "amplitudes = np.zeros((nEnc, len(u)))\n",
    "for n in range(nEnc):\n",
    "\tamplitudes[n, :] = u * tuning[n]\n",
    "\tnest.SetStatus([enc_layer[n]], {'V_m': Vm0[n], 'V_th': thresholds[n]})\n",
    "\tnest.SetStatus([step_generator[n]], {'amplitude_times': input_times,\n",
    "\t                                     'amplitude_values': amplitudes[n]})\n",
    "\tnest.Connect([step_generator[n]], [enc_layer[n]])\n",
    "    \n",
    "enc_v = nest.Create('multimeter', 1, {'record_from': ['V_m']})\n",
    "nest.Connect(enc_v, enc_layer)"
   ]
  },
  {
   "cell_type": "code",
   "execution_count": 2,
   "metadata": {},
   "outputs": [],
   "source": [
    "#### PARAMETERS ###\n",
    "# network parameters\n",
    "gamma = 0.25               # relative number of inhibitory connections\n",
    "NE = 1000                  # number of excitatory neurons (10.000 in [1])\n",
    "NI = int(gamma * NE)       # number of inhibitory neurons\n",
    "CE = 100                   # indegree from excitatory neurons\n",
    "CI = int(gamma * CE)       # indegree from inhibitory neurons\n",
    "\n",
    "# synapse parameters\n",
    "w = 0.1                    # excitatory synaptic weight (mV)\n",
    "g = 5.                     # relative inhibitory to excitatory synaptic weight\n",
    "d = 1.5                    # synaptic transmission delay (ms)\n",
    "\n",
    "# neuron paramters\n",
    "V_th = 20.                 # spike threshold (mV)\n",
    "tau_m = 20.                # membrane time constant (ms)\n",
    "neuron_params = {\n",
    "    'C_m': 1.0,            # membrane capacity (pF)\n",
    "    'E_L': 0.,             # resting membrane potential (mV)\n",
    "    'I_e': 0.,             # external input current (pA)\n",
    "    'V_m': 0.,             # membrane potential (mV)\n",
    "    'V_reset': 10.,        # reset membrane potential after a spike (mV)\n",
    "    'V_th': V_th,          #\n",
    "    't_ref': 2.0,          # refractory period (ms)\n",
    "    'tau_m': tau_m,        #\n",
    "}\n",
    "\n",
    "# set default parameters for neurons and create neurons\n",
    "nest.SetDefaults('iaf_psc_delta', neuron_params)\n",
    "neurons_e = nest.Create('iaf_psc_delta', NE)\n",
    "neurons_i = nest.Create('iaf_psc_delta', NI)\n",
    "\n",
    "# E synapses\n",
    "syn_exc = {'delay': d, 'weight': w}\n",
    "conn_exc = {'rule': 'fixed_indegree', 'indegree': CE}\n",
    "nest.Connect(neurons_e, neurons_e, conn_exc, syn_exc)\n",
    "nest.Connect(neurons_e, neurons_i, conn_exc, syn_exc)\n",
    "\n",
    "# I synapses\n",
    "syn_inh = {'delay': d, 'weight': - g * w}\n",
    "conn_inh = {'rule': 'fixed_indegree', 'indegree': CI}\n",
    "nest.Connect(neurons_i, neurons_e, conn_inh, syn_inh)\n",
    "nest.Connect(neurons_i, neurons_i, conn_inh, syn_inh)\n",
    "\n",
    "# device\n",
    "net_v = nest.Create('multimeter', 1, {'record_from': ['V_m']})\n",
    "nest.Connect(net_v, neurons_e)"
   ]
  },
  {
   "cell_type": "code",
   "execution_count": 3,
   "metadata": {},
   "outputs": [],
   "source": [
    "nest.Connect(enc_layer, neurons_e, conn_exc, syn_exc)\n",
    "nest.Connect(enc_layer, neurons_i, conn_exc, syn_exc)"
   ]
  },
  {
   "cell_type": "code",
   "execution_count": 4,
   "metadata": {},
   "outputs": [],
   "source": [
    "nest.Simulate(T*duration+dt)"
   ]
  },
  {
   "cell_type": "code",
   "execution_count": 5,
   "metadata": {},
   "outputs": [],
   "source": [
    "time_vector = np.arange(0., T*duration, dt)\n",
    "signal = np.zeros_like(time_vector)\n",
    "for tt in range(len(input_times)-1):\n",
    "\tsignal[int(input_times[tt]/dt):int(input_times[tt+1]/dt)] = u[tt]\n",
    "    \n",
    "enc_activity = nest.GetStatus(enc_v)[0]['events']\n",
    "net_activity = nest.GetStatus(net_v)[0]['events']"
   ]
  },
  {
   "cell_type": "code",
   "execution_count": 6,
   "metadata": {},
   "outputs": [],
   "source": [
    "enc_indices = np.sort(np.unique(enc_activity['senders']))\n",
    "enc_states = np.zeros((nEnc, int(T/dt)))\n",
    "for idx, i in enumerate(enc_indices):\n",
    "    enc_states[idx, :] = enc_activity['V_m'][np.where(enc_activity['senders']==i)[0]]\n",
    "    \n",
    "net_indices = np.sort(np.unique(net_activity['senders']))\n",
    "e_states = np.zeros((NE, int(T/dt)))\n",
    "for idx, i in enumerate(net_indices):\n",
    "    e_states[idx, :] = net_activity['V_m'][np.where(net_activity['senders']==i)[0]]"
   ]
  },
  {
   "cell_type": "code",
   "execution_count": null,
   "metadata": {},
   "outputs": [],
   "source": [
    "fig = pl.figure()\n",
    "ax1 = fig.add_subplot(221)\n",
    "ax1.imshow(enc_states, aspect='auto')\n",
    "ax3 = fig.add_subplot(223)\n",
    "ax3.imshow(e_states, aspect='auto')\n",
    "pl.show()"
   ]
  },
  {
   "cell_type": "code",
   "execution_count": 4,
   "metadata": {},
   "outputs": [
    {
     "ename": "NameError",
     "evalue": "name 'enc_states' is not defined",
     "output_type": "error",
     "traceback": [
      "\u001b[0;31m---------------------------------------------------------------------------\u001b[0m",
      "\u001b[0;31mNameError\u001b[0m                                 Traceback (most recent call last)",
      "\u001b[0;32m<ipython-input-4-d79e5a65fcd4>\u001b[0m in \u001b[0;36m<module>\u001b[0;34m()\u001b[0m\n\u001b[1;32m     12\u001b[0m         \u001b[0;32mreturn\u001b[0m \u001b[0my_hat\u001b[0m\u001b[0;34m,\u001b[0m \u001b[0;36m1.\u001b[0m \u001b[0;34m-\u001b[0m \u001b[0;34m(\u001b[0m\u001b[0mnp\u001b[0m\u001b[0;34m.\u001b[0m\u001b[0mmean\u001b[0m\u001b[0;34m(\u001b[0m\u001b[0;34m(\u001b[0m\u001b[0my\u001b[0m \u001b[0;34m-\u001b[0m \u001b[0my_hat\u001b[0m\u001b[0;34m)\u001b[0m \u001b[0;34m**\u001b[0m \u001b[0;36m2\u001b[0m\u001b[0;34m)\u001b[0m \u001b[0;34m/\u001b[0m \u001b[0mnp\u001b[0m\u001b[0;34m.\u001b[0m\u001b[0mvar\u001b[0m\u001b[0;34m(\u001b[0m\u001b[0my\u001b[0m\u001b[0;34m)\u001b[0m\u001b[0;34m)\u001b[0m\u001b[0;34m\u001b[0m\u001b[0m\n\u001b[1;32m     13\u001b[0m \u001b[0;34m\u001b[0m\u001b[0m\n\u001b[0;32m---> 14\u001b[0;31m \u001b[0menc_estimate\u001b[0m\u001b[0;34m,\u001b[0m \u001b[0menc_capacity\u001b[0m\u001b[0;34m,\u001b[0m \u001b[0menc_error\u001b[0m \u001b[0;34m=\u001b[0m \u001b[0mcompute_capacity\u001b[0m\u001b[0;34m(\u001b[0m\u001b[0menc_states\u001b[0m\u001b[0;34m,\u001b[0m \u001b[0msignal\u001b[0m\u001b[0;34m)\u001b[0m\u001b[0;34m\u001b[0m\u001b[0m\n\u001b[0m\u001b[1;32m     15\u001b[0m \u001b[0mcirc_estimate\u001b[0m\u001b[0;34m,\u001b[0m \u001b[0mcirc_capacity\u001b[0m\u001b[0;34m,\u001b[0m \u001b[0mcirc_error\u001b[0m \u001b[0;34m=\u001b[0m \u001b[0mcompute_capacity\u001b[0m\u001b[0;34m(\u001b[0m\u001b[0me_states\u001b[0m\u001b[0;34m,\u001b[0m \u001b[0msignal\u001b[0m\u001b[0;34m)\u001b[0m\u001b[0;34m\u001b[0m\u001b[0m\n\u001b[1;32m     16\u001b[0m \u001b[0;34m\u001b[0m\u001b[0m\n",
      "\u001b[0;31mNameError\u001b[0m: name 'enc_states' is not defined"
     ]
    }
   ],
   "source": [
    "def compute_capacity(a, y):\n",
    "\t\"\"\"\n",
    "\tCompute capacity to reconstruct y based on linearly combining a\n",
    "\t:param a: state matrix (NxT)\n",
    "\t:param y: target output (1xT)\n",
    "\t:return y_hat: estimated signal\n",
    "    :return capacity: \n",
    "    :return error:\n",
    "\t\"\"\"\n",
    "\treg = LinearRegression(n_jobs=-1, fit_intercept=False, normalize=True, copy_X=False).fit(a.T, y)\n",
    "\ty_hat = np.dot(reg.coef_, a)\n",
    "\treturn y_hat, 1. - (np.mean((y - y_hat) ** 2) / np.var(y))\n",
    "\n",
    "enc_estimate, enc_capacity, enc_error = compute_capacity(enc_states, signal)\n",
    "circ_estimate, circ_capacity, circ_error = compute_capacity(e_states, signal)\n",
    "\n",
    "print(\"Encoding Layer: \\n\\t- Capacity={0}, MSE={1}\".format(str(enc_capacity), str(enc_error)))\n",
    "print(\"Main Circuit: \\n\\t- Capacity={0}, MSE={1}\".format(str(circ_capacity), str(circ_error)))"
   ]
  },
  {
   "cell_type": "code",
   "execution_count": null,
   "metadata": {},
   "outputs": [],
   "source": [
    "fig = pl.figure()\n",
    "ax1 = fig.add_subplot(211)\n",
    "ax2 = fig.add_subplot(212)\n",
    "ax1.plot(time_vector, signal, 'r', linewidth=2)\n",
    "ax1.plot(time_vector, enc_estimate, 'k', linewidth=1)\n",
    "ax1.set_xlim([0., T*duration])\n",
    "ax1.set_title('Encoding Layer')\n",
    "ax2.plot(time_vector, signal, 'r', linewidth=2)\n",
    "ax2.plot(time_vector, circ_estimate, 'b', linewidth=1)\n",
    "ax2.set_xlim([0., T*duration])\n",
    "ax2.set_title('Processing Layer')\n",
    "pl.show()"
   ]
  },
  {
   "cell_type": "code",
   "execution_count": null,
   "metadata": {},
   "outputs": [],
   "source": [
    "max_lag = 100.   # [ms] in this example\n",
    "step_lag = 10.   # [ms] - if != dt (index the time axis)\n",
    "time_lags = np.arange(0., max_lag, step_lag)\n",
    "indices = [np.where(idx==time_vector)[0][0] for idx in time_lags]\n",
    "\n",
    "encoder_capacity = []\n",
    "circuit_capacity = []\n",
    "\n",
    "for idx, lag in zip(indices, time_lags):\n",
    "    \n",
    "    # shift the target signal\n",
    "    if idx > 0:\n",
    "        shifted_signal = signal[:-idx]\n",
    "    else:\n",
    "        shifted_signal = signal\n",
    "    \n",
    "    # shift the population states\n",
    "    enc_st = enc_states[:, idx:]\n",
    "    circ_st = e_states[:, idx:]\n",
    "    \n",
    "    # compute capacity\n",
    "    enc_estimate, enc_capacity, enc_error = compute_capacity(enc_st, shifted_signal)\n",
    "    circ_estimate, circ_capacity, circ_error = compute_capacity(circ_st, shifted_signal)\n",
    "    \n",
    "    print(\"Lag = {0} ms\".format(str(lag)))\n",
    "    print(\"Encoding Layer: \\n\\t- Capacity={0}, MSE={1}\".format(str(enc_capacity), str(enc_error)))\n",
    "    print(\"Main Circuit: \\n\\t- Capacity={0}, MSE={1}\".format(str(circ_capacity), str(circ_error)))\n",
    "    \n",
    "    encoder_capacity.append(enc_capacity)\n",
    "    circuit_capacity.append(circ_capacity)"
   ]
  },
  {
   "cell_type": "code",
   "execution_count": null,
   "metadata": {},
   "outputs": [],
   "source": [
    "fig = pl.figure()\n",
    "ax1 = fig.add_subplot(121)\n",
    "ax2 = fig.add_subplot(122)\n",
    "\n",
    "ax1.plot(time_lags, encoder_capacity)\n",
    "ax2.plot(time_lags, circuit_capacity)\n",
    "\n",
    "pl.show()\n",
    "\n",
    "print(\"Total capacity (encoder): {0} ms\".format(str(np.sum(encoder_capacity)*step_lag)))\n",
    "print(\"Total capacity (processor): {0} ms\".format(str(np.sum(circuit_capacity)*step_lag)))"
   ]
  }
 ],
 "metadata": {
  "kernelspec": {
   "display_name": "Python 2",
   "language": "python",
   "name": "python2"
  },
  "language_info": {
   "codemirror_mode": {
    "name": "ipython",
    "version": 2
   },
   "file_extension": ".py",
   "mimetype": "text/x-python",
   "name": "python",
   "nbconvert_exporter": "python",
   "pygments_lexer": "ipython2",
   "version": "2.7.15rc1"
  }
 },
 "nbformat": 4,
 "nbformat_minor": 2
}
