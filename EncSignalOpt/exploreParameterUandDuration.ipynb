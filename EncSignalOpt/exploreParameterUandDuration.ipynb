{
 "cells": [
  {
   "cell_type": "code",
   "execution_count": 9,
   "metadata": {},
   "outputs": [],
   "source": [
    "import nest\n",
    "import numpy as np\n",
    "import pylab as pl\n",
    "from sklearn.linear_model import LinearRegression\n",
    "def compute_capacity(state_mat, signal):\n",
    "    \"\"\"\n",
    "    Compute capacity to reconstruct y based on linearly combining a\n",
    "    :param a: state matrix (NxT)\n",
    "    :param y: target output (1xT)\n",
    "    :return y_hat: estimated signal\n",
    "    :return capacity: \n",
    "    :return error:\n",
    "    \"\"\"\n",
    "    state_mat = state_mat.T\n",
    "    signal_pred = LinearRegression(n_jobs=-1, fit_intercept=False, normalize=True, copy_X=False).fit(state_mat, signal).predict(state_mat)\n",
    "    MSE_pred = np.mean((signal-signal_pred)**2)\n",
    "    return signal_pred, 1. - (MSE_pred / np.var(signal)), MSE_pred\n",
    "        "
   ]
  },
  {
   "cell_type": "code",
   "execution_count": 2,
   "metadata": {},
   "outputs": [],
   "source": [
    "# parameters\n",
    "T = 1000  # total number of time steps\n",
    "dt = 0.1  # simulation resolution\n",
    "nEnc = 1000 # neurons encoding layer\n",
    "J_bias = 200. # [pA] \n",
    "tuning = 250. * np.random.randn(nEnc) + 1000.\n",
    "\n",
    "# randomize thresholds and initial states\n",
    "thresholds = 5 * np.random.randn(nEnc) - 50.\n",
    "Vm0 = np.array(np.random.uniform(low=-70., high=-50., size=int(nEnc)))"
   ]
  },
  {
   "cell_type": "markdown",
   "metadata": {},
   "source": [
    "### Check which neuron model is better depending on the duration of the stimulus"
   ]
  },
  {
   "cell_type": "code",
   "execution_count": null,
   "metadata": {},
   "outputs": [
    {
     "name": "stdout",
     "output_type": "stream",
     "text": [
      "Lag = 0.0 ms\n",
      "Encoding Layer: \n",
      "\t- Capacity=0.609122189422273, MSE=0.03341896050763369\n",
      "Lag = 10.0 ms\n",
      "Encoding Layer: \n",
      "\t- Capacity=0.7075463160346638, MSE=0.024958777769587145\n",
      "Lag = 20.0 ms\n",
      "Encoding Layer: \n",
      "\t- Capacity=0.3224894439028526, MSE=0.05773533819821886\n",
      "Total capacity (encoder): 16.391579493597895 ms\n",
      "Lag = 0.0 ms\n",
      "Encoding Layer: \n",
      "\t- Capacity=0.7550041357675481, MSE=0.020946855728931082\n",
      "Lag = 10.0 ms\n",
      "Encoding Layer: \n",
      "\t- Capacity=0.8359195637357666, MSE=0.01401599862468964\n",
      "Lag = 20.0 ms\n",
      "Encoding Layer: \n",
      "\t- Capacity=0.6024976664739154, MSE=0.033924442624095545\n",
      "Total capacity (encoder): 21.9342136597723 ms\n",
      "Lag = 0.0 ms\n",
      "Encoding Layer: \n",
      "\t- Capacity=0.8150097948006488, MSE=0.015816228822642893\n",
      "Lag = 10.0 ms\n",
      "Encoding Layer: \n",
      "\t- Capacity=0.885054761824764, MSE=0.009821627049283018\n",
      "Lag = 20.0 ms\n",
      "Encoding Layer: \n",
      "\t- Capacity=0.7083674401607865, MSE=0.024903828052224814\n",
      "Total capacity (encoder): 24.08431996786199 ms\n"
     ]
    }
   ],
   "source": [
    "for neuron_model in [0, 1]:\n",
    "    u_vals = 0.\n",
    "    for d_vals in range(10,110,10):\n",
    "        # Initialize NEST\n",
    "        np.random.seed(42)\n",
    "        nest.ResetKernel()\n",
    "        nest.SetKernelStatus({\n",
    "            'resolution': dt,\n",
    "            'print_time': True,\n",
    "            'local_num_threads': 8})\n",
    "\n",
    "        # Input parameters\n",
    "        u_range = [u_vals, 1.]\n",
    "        duration = float(d_vals) # [ms]\n",
    "\n",
    "        u = np.random.uniform(low=u_range[0], high=u_range[1], size=T)\n",
    "        input_times = np.arange(dt, T*duration, duration)\n",
    "\n",
    "        if neuron_model==0:\n",
    "            neuron_params = {'C_m': 250.0,\n",
    "                             'Delta_T': 2.0,\n",
    "                             'E_L': -70.,\n",
    "                             'E_ex': 0.0,\n",
    "                             'E_in': -75.0,\n",
    "                             'I_e': 0.,\n",
    "                             'V_m': -70.,\n",
    "                             'V_th': -50.,\n",
    "                             'V_reset': -60.0,\n",
    "                             'V_peak': 0.0,\n",
    "                             'a': 4.0,\n",
    "                             'b': 80.5,\n",
    "                             'g_L': 16.7,\n",
    "                             'g_ex': 1.0,\n",
    "                             'g_in': 1.0,\n",
    "                             't_ref': 2.0,\n",
    "                             'tau_minus': 20.,\n",
    "                             'tau_minus_triplet': 200.,\n",
    "                             'tau_w': 144.0,\n",
    "                             'tau_syn_ex': 2.,\n",
    "                             'tau_syn_in': 6.0}\n",
    "\n",
    "            nest.SetDefaults('aeif_cond_exp', neuron_params)\n",
    "            enc_layer = nest.Create('aeif_cond_exp ', nEnc, {'I_e': J_bias})\n",
    "\n",
    "        elif neuron_model==1:\n",
    "\n",
    "            enc_layer = nest.Create('iaf_psc_delta', nEnc, {'I_e': J_bias})\n",
    "\n",
    "        step_generator = nest.Create('step_current_generator', nEnc)\n",
    "        amplitudes = np.zeros((nEnc, len(u)))\n",
    "\n",
    "        for n in range(nEnc):\n",
    "            amplitudes[n, :] = u * tuning[n]\n",
    "            nest.SetStatus([enc_layer[n]], {'V_m': Vm0[n], 'V_th': thresholds[n]})\n",
    "            nest.SetStatus([step_generator[n]], {'amplitude_times': input_times,\n",
    "                                                 'amplitude_values': amplitudes[n]})\n",
    "            nest.Connect([step_generator[n]], [enc_layer[n]])\n",
    "\n",
    "        enc_v = nest.Create('multimeter', 1, {'record_from': ['V_m'], 'interval':dt})\n",
    "        nest.Connect(enc_v, enc_layer)\n",
    "\n",
    "        nest.Simulate(T*duration+dt)\n",
    "\n",
    "        time_vector = np.arange(0., T*duration, dt)\n",
    "\n",
    "        signal = np.zeros_like(time_vector)\n",
    "\n",
    "        for tt in range(len(input_times)-1):\n",
    "            signal[int(input_times[tt]/dt):int(input_times[tt+1]/dt)] = u[tt]\n",
    "\n",
    "        enc_activity = nest.GetStatus(enc_v)[0]['events']\n",
    "\n",
    "        enc_indices = np.sort(np.unique(enc_activity['senders']))\n",
    "        enc_states = np.zeros((nEnc, int(T*duration/dt)))\n",
    "        for idx, i in enumerate(enc_indices):\n",
    "            enc_states[idx, :] = enc_activity['V_m'][np.where(enc_activity['senders']==i)[0]]\n",
    "\n",
    "        max_lag = 30.   # [ms] in this example\n",
    "        step_lag = 10.   # [ms] - if != dt (index the time axis)\n",
    "        time_lags = np.arange(0., max_lag, step_lag)\n",
    "        indices = [np.where(idx==time_vector)[0][0] for idx in time_lags]\n",
    "\n",
    "        encoder_capacity = []\n",
    "\n",
    "        for idx, lag in zip(indices, time_lags):\n",
    "\n",
    "            # shift the target signal\n",
    "            if idx > 0:\n",
    "                shifted_signal = signal[:-idx]\n",
    "            else:\n",
    "                shifted_signal = signal\n",
    "\n",
    "            # shift the population states\n",
    "            enc_st = enc_states[:, idx:]\n",
    "\n",
    "            # compute capacity\n",
    "            enc_estimate, enc_capacity, enc_error = compute_capacity(enc_st, shifted_signal)\n",
    "\n",
    "            with open (\"resultsParamAndDur.csv\",\"a\") as results_file:\n",
    "                results_file.write(\"{0},{1},{2},{3},{4},{5}\\n\".format(\n",
    "                    str(neuron_model), str(u_vals), str(d_vals),str(lag), str(enc_capacity), str(enc_error)))\n",
    "\n",
    "            results_file.close()\n",
    "\n",
    "            print(\"Lag = {0} ms\".format(str(lag)))\n",
    "            print(\"Encoding Layer: \\n\\t- Capacity={0}, MSE={1}\".format(str(enc_capacity), str(enc_error)))\n",
    "\n",
    "            encoder_capacity.append(enc_capacity)\n",
    "\n",
    "        print(\"Total capacity (encoder): {0} ms\".format(str(np.sum(encoder_capacity)*step_lag)))"
   ]
  },
  {
   "cell_type": "code",
   "execution_count": 3,
   "metadata": {},
   "outputs": [
    {
     "data": {
      "text/plain": [
       "<matplotlib.legend.Legend at 0x11f798ba8>"
      ]
     },
     "execution_count": 3,
     "metadata": {},
     "output_type": "execute_result"
    },
    {
     "data": {
      "image/png": "[encoded data removed]",
      "text/plain": [
       "<Figure size 432x288 with 1 Axes>"
      ]
     },
     "metadata": {
      "needs_background": "light"
     },
     "output_type": "display_data"
    }
   ],
   "source": [
    "select_lag=1\n",
    "\n",
    "data_ad_ex = np.loadtxt(\"resultsParamAndDurAdExU0.csv\", delimiter=',')\n",
    "data_lif = np.loadtxt(\"resultsParamAndDurLifU0.csv\", delimiter=',')\n",
    "\n",
    "plt_ad_ex = pl.plot(data_ad_ex[range(1,len(data_ad_ex),3),2],data_ad_ex[range(1,len(data_ad_ex),3),4])\n",
    "plt_lif = pl.plot(data_lif[range(1,len(data_lif),3),2],data_lif[range(1,len(data_lif),3),4])\n",
    "\n",
    "pl.title(\"Encoding layer memory capacity using:\\n stimulus offset = {0}, decay time = {1}ms\".format(str(data_lif[0,1]), str(data_lif[select_lag,3])))\n",
    "pl.xlabel('duration in ms')\n",
    "pl.ylabel('capacity')\n",
    "pl.ylim(min([min(data_ad_ex[range(1,len(data_ad_ex),3),4]), min(data_lif[range(1,len(data_lif),3),4])]), 1)\n",
    "pl.legend(('AdEx', 'LIF'))"
   ]
  },
  {
   "cell_type": "code",
   "execution_count": 12,
   "metadata": {},
   "outputs": [
    {
     "data": {
      "text/plain": [
       "0.6479917558322584"
      ]
     },
     "execution_count": 12,
     "metadata": {},
     "output_type": "execute_result"
    }
   ],
   "source": []
  },
  {
   "cell_type": "markdown",
   "metadata": {},
   "source": [
    "### check stimulus offset for better model"
   ]
  },
  {
   "cell_type": "code",
   "execution_count": null,
   "metadata": {},
   "outputs": [
    {
     "name": "stdout",
     "output_type": "stream",
     "text": [
      "Lag = 0.0 ms\n",
      "Encoding Layer: \n",
      "\t- Capacity=0.9134450675597356, MSE=0.0047531554310097646\n",
      "Lag = 10.0 ms\n",
      "Encoding Layer: \n",
      "\t- Capacity=0.9444109506103788, MSE=0.0030503225877192685\n",
      "Lag = 20.0 ms\n",
      "Encoding Layer: \n",
      "\t- Capacity=0.8700078473188797, MSE=0.00712753769268039\n",
      "Total capacity (encoder): 27.278638654889946 ms\n"
     ]
    }
   ],
   "source": [
    "neuron_model = 1\n",
    "for u_vals in [0.1, 0.2, 0.3, 0.4, 0.5]:\n",
    "    d_vals = 70\n",
    "    # Initialize NEST\n",
    "    np.random.seed(42)\n",
    "    nest.ResetKernel()\n",
    "    nest.SetKernelStatus({\n",
    "        'resolution': dt,\n",
    "        'print_time': True,\n",
    "        'local_num_threads': 8})\n",
    "\n",
    "    # Input parameters\n",
    "    u_range = [u_vals, 1.]\n",
    "    duration = float(d_vals) # [ms]\n",
    "\n",
    "    u = np.random.uniform(low=u_range[0], high=u_range[1], size=T)\n",
    "    input_times = np.arange(dt, T*duration, duration)\n",
    "\n",
    "    enc_layer = nest.Create('iaf_psc_delta', nEnc, {'I_e': J_bias})\n",
    "\n",
    "    step_generator = nest.Create('step_current_generator', nEnc)\n",
    "    amplitudes = np.zeros((nEnc, len(u)))\n",
    "\n",
    "    for n in range(nEnc):\n",
    "        amplitudes[n, :] = u * tuning[n]\n",
    "        nest.SetStatus([enc_layer[n]], {'V_m': Vm0[n], 'V_th': thresholds[n]})\n",
    "        nest.SetStatus([step_generator[n]], {'amplitude_times': input_times,\n",
    "                                             'amplitude_values': amplitudes[n]})\n",
    "        nest.Connect([step_generator[n]], [enc_layer[n]])\n",
    "\n",
    "    enc_v = nest.Create('multimeter', 1, {'record_from': ['V_m'], 'interval':dt})\n",
    "    nest.Connect(enc_v, enc_layer)\n",
    "\n",
    "    nest.Simulate(T*duration+dt)\n",
    "\n",
    "    time_vector = np.arange(0., T*duration, dt)\n",
    "\n",
    "    signal = np.zeros_like(time_vector)\n",
    "\n",
    "    for tt in range(len(input_times)-1):\n",
    "        signal[int(input_times[tt]/dt):int(input_times[tt+1]/dt)] = u[tt]\n",
    "\n",
    "    enc_activity = nest.GetStatus(enc_v)[0]['events']\n",
    "\n",
    "    enc_indices = np.sort(np.unique(enc_activity['senders']))\n",
    "    enc_states = np.zeros((nEnc, int(T*duration/dt)))\n",
    "    for idx, i in enumerate(enc_indices):\n",
    "        enc_states[idx, :] = enc_activity['V_m'][np.where(enc_activity['senders']==i)[0]]\n",
    "\n",
    "    max_lag = 30.   # [ms] in this example\n",
    "    step_lag = 10.   # [ms] - if != dt (index the time axis)\n",
    "    time_lags = np.arange(0., max_lag, step_lag)\n",
    "    indices = [np.where(idx==time_vector)[0][0] for idx in time_lags]\n",
    "\n",
    "    encoder_capacity = []\n",
    "\n",
    "    for idx, lag in zip(indices, time_lags):\n",
    "\n",
    "        # shift the target signal\n",
    "        if idx > 0:\n",
    "            shifted_signal = signal[:-idx]\n",
    "        else:\n",
    "            shifted_signal = signal\n",
    "\n",
    "        # shift the population states\n",
    "        enc_st = enc_states[:, idx:]\n",
    "\n",
    "        # compute capacity\n",
    "        enc_estimate, enc_capacity, enc_error = compute_capacity(enc_st, shifted_signal)\n",
    "\n",
    "        with open (\"resultsParamAndDur.csv\",\"a\") as results_file:\n",
    "            results_file.write(\"{0},{1},{2},{3},{4},{5}\\n\".format(\n",
    "                str(neuron_model), str(u_vals), str(d_vals),str(lag), str(enc_capacity), str(enc_error)))\n",
    "\n",
    "        results_file.close()\n",
    "\n",
    "        print(\"Lag = {0} ms\".format(str(lag)))\n",
    "        print(\"Encoding Layer: \\n\\t- Capacity={0}, MSE={1}\".format(str(enc_capacity), str(enc_error)))\n",
    "\n",
    "        encoder_capacity.append(enc_capacity)\n",
    "\n",
    "    print(\"Total capacity (encoder): {0} ms\".format(str(np.sum(encoder_capacity)*step_lag)))"
   ]
  },
  {
   "cell_type": "code",
   "execution_count": 8,
   "metadata": {},
   "outputs": [
    {
     "data": {
      "image/png": "[encoded data removed]",
      "text/plain": [
       "<Figure size 432x288 with 1 Axes>"
      ]
     },
     "metadata": {
      "needs_background": "light"
     },
     "output_type": "display_data"
    }
   ],
   "source": [
    "select_lag=1\n",
    "d_vals = 70\n",
    "data_lif = np.loadtxt(\"resultsParamAndDurLifU0.csv\", delimiter=',')\n",
    "inds=np.where(data_lif[:,2]==d_vals)\n",
    "data_lif = np.concatenate((data_lif[inds[0],:], np.loadtxt(\"resultsParamAndDurLifD70.csv\", delimiter=',')))\n",
    "\n",
    "pl.plot(data_lif[range(1,len(data_lif),3),1],data_lif[range(1,len(data_lif),3),4])\n",
    "\n",
    "pl.title(\"LIF delta: duration={0}, lag={1}ms\".format(str(data_lif[0,2]), str(data_lif[select_lag,3])))\n",
    "pl.xlabel('offset')\n",
    "pl.xticks(data_lif[range(1,len(data_lif),3),1])\n",
    "pl.ylabel('capacity')\n",
    "pl.savefig('test.png')"
   ]
  },
  {
   "cell_type": "code",
   "execution_count": null,
   "metadata": {},
   "outputs": [],
   "source": []
  }
 ],
 "metadata": {
  "kernelspec": {
   "display_name": "Python 3",
   "language": "python",
   "name": "python3"
  },
  "language_info": {
   "codemirror_mode": {
    "name": "ipython",
    "version": 3
   },
   "file_extension": ".py",
   "mimetype": "text/x-python",
   "name": "python",
   "nbconvert_exporter": "python",
   "pygments_lexer": "ipython3",
   "version": "3.7.3"
  }
 },
 "nbformat": 4,
 "nbformat_minor": 2
}
